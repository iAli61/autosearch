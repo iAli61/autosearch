{
 "cells": [
  {
   "cell_type": "code",
   "execution_count": null,
   "metadata": {},
   "outputs": [
    {
     "name": "stderr",
     "output_type": "stream",
     "text": [
      "/anaconda/envs/nougat/lib/python3.9/site-packages/tqdm/auto.py:21: TqdmWarning: IProgress not found. Please update jupyter and ipywidgets. See https://ipywidgets.readthedocs.io/en/stable/user_install.html\n",
      "  from .autonotebook import tqdm as notebook_tqdm\n",
      "/anaconda/envs/nougat/lib/python3.9/site-packages/torch/utils/cpp_extension.py:1964: UserWarning: TORCH_CUDA_ARCH_LIST is not set, all archs for visible cards are included for compilation. \n",
      "If this is not desired, please set os.environ['TORCH_CUDA_ARCH_LIST'].\n",
      "  warnings.warn(\n"
     ]
    },
    {
     "name": "stdout",
     "output_type": "stream",
     "text": [
      "Initializing layout detection model...\n"
     ]
    },
    {
     "name": "stderr",
     "output_type": "stream",
     "text": [
      "/anaconda/envs/nougat/lib/python3.9/site-packages/huggingface_hub/file_download.py:795: FutureWarning: `resume_download` is deprecated and will be removed in version 1.0.0. Downloads always resume when possible. If you want to force a new download, use `force_download=True`.\n",
      "  warnings.warn(\n",
      "Some weights of DeformableDetrForObjectDetection were not initialized from the model checkpoint at Aryn/deformable-detr-DocLayNet and are newly initialized: ['class_embed.0.weight', 'bbox_embed.0.layers.1.bias', 'bbox_embed.0.layers.1.weight', 'bbox_embed.0.layers.2.bias', 'model.backbone.conv_encoder.model.layer1.0.downsample.1.num_batches_tracked', 'bbox_embed.0.layers.0.bias', 'model.backbone.conv_encoder.model.layer3.0.downsample.1.num_batches_tracked', 'model.backbone.conv_encoder.model.layer2.0.downsample.1.num_batches_tracked', 'model.backbone.conv_encoder.model.layer4.0.downsample.1.num_batches_tracked', 'class_embed.0.bias', 'bbox_embed.0.layers.0.weight', 'bbox_embed.0.layers.2.weight']\n",
      "You should probably TRAIN this model on a down-stream task to be able to use it for predictions and inference.\n"
     ]
    },
    {
     "name": "stdout",
     "output_type": "stream",
     "text": [
      "Layout detection service initialized. Using device: cuda\n"
     ]
    },
    {
     "name": "stderr",
     "output_type": "stream",
     "text": [
      "/anaconda/envs/nougat/lib/python3.9/site-packages/transformers/modeling_utils.py:463: FutureWarning: You are using `torch.load` with `weights_only=False` (the current default value), which uses the default pickle module implicitly. It is possible to construct malicious pickle data which will execute arbitrary code during unpickling (See https://github.com/pytorch/pytorch/blob/main/SECURITY.md#untrusted-models for more details). In a future release, the default value for `weights_only` will be flipped to `True`. This limits the functions that could be executed during unpickling. Arbitrary objects will no longer be allowed to be loaded via this mode unless they are explicitly allowlisted by the user via `torch.serialization.add_safe_globals`. We recommend you start setting `weights_only=True` for any use case where you don't have full control of the loaded file. Please open an issue on GitHub for any issues related to this experimental feature.\n",
      "  return torch.load(checkpoint_file, map_location=\"cpu\")\n",
      "/anaconda/envs/nougat/lib/python3.9/site-packages/torch/functional.py:534: UserWarning: torch.meshgrid: in an upcoming release, it will be required to pass the indexing argument. (Triggered internally at ../aten/src/ATen/native/TensorShape.cpp:3595.)\n",
      "  return _VF.meshgrid(tensors, **kwargs)  # type: ignore[attr-defined]\n",
      "/anaconda/envs/nougat/lib/python3.9/site-packages/nougat/model.py:437: UserWarning: var(): degrees of freedom is <= 0. Correction should be strictly less than the reduction factor (input numel divided by output numel). (Triggered internally at ../aten/src/ATen/native/ReduceOps.cpp:1823.)\n",
      "  return torch.var(self.values, 1) / self.values.shape[1]\n"
     ]
    },
    {
     "ename": "ValueError",
     "evalue": "too many values to unpack (expected 2)",
     "output_type": "error",
     "traceback": [
      "\u001b[0;31m---------------------------------------------------------------------------\u001b[0m",
      "\u001b[0;31mValueError\u001b[0m                                Traceback (most recent call last)",
      "Cell \u001b[0;32mIn[1], line 31\u001b[0m\n\u001b[1;32m     28\u001b[0m \u001b[38;5;28;01mfor\u001b[39;00m pdf_path \u001b[38;5;129;01min\u001b[39;00m pdf_paths[\u001b[38;5;241m0\u001b[39m:\u001b[38;5;241m1\u001b[39m]:\n\u001b[1;32m     29\u001b[0m     \u001b[38;5;28;01mfor\u001b[39;00m ct \u001b[38;5;129;01min\u001b[39;00m confidence_thresholds[\u001b[38;5;241m0\u001b[39m:\u001b[38;5;241m1\u001b[39m]:\n\u001b[0;32m---> 31\u001b[0m         markdown_text, elements_df \u001b[38;5;241m=\u001b[39m analyzer\u001b[38;5;241m.\u001b[39manalyze_document(pdf_path)\n\u001b[1;32m     33\u001b[0m         \u001b[38;5;66;03m# Save results\u001b[39;00m\n\u001b[1;32m     34\u001b[0m         elements_df\u001b[38;5;241m.\u001b[39mto_csv(\u001b[38;5;124mf\u001b[39m\u001b[38;5;124m\"\u001b[39m\u001b[38;5;132;01m{\u001b[39;00moutput_dir\u001b[38;5;132;01m}\u001b[39;00m\u001b[38;5;124m/paper_elements.csv\u001b[39m\u001b[38;5;124m\"\u001b[39m, index\u001b[38;5;241m=\u001b[39m\u001b[38;5;28;01mFalse\u001b[39;00m)\n",
      "\u001b[0;31mValueError\u001b[0m: too many values to unpack (expected 2)"
     ]
    }
   ],
   "source": [
    "# Add these lines at the beginning of your notebook\n",
    "%load_ext autoreload\n",
    "%autoreload 2\n",
    "\n",
    "from document_analysis import EnhancedDocumentAnalyzer\n",
    "from glob import glob\n",
    "import dotenv\n",
    "import os\n",
    "\n",
    "# Load the environment variables\n",
    "dotenv.load_dotenv()\n",
    "\n",
    "output_dir = \"output-azure\"\n",
    "\n",
    "analyzer = EnhancedDocumentAnalyzer(\n",
    "    api_key=os.getenv(\"DOCUMENT_INTELLIGENCE_KEY\"),\n",
    "    endpoint=os.getenv(\"DOCUMENT_INTELLIGENCE_ENDPOINT\"),\n",
    "    output_dir=output_dir,\n",
    "    confidence_threshold=0.5\n",
    ")\n",
    "\n",
    "# Initialize the analyzer\n",
    "confidence_thresholds = [0.55, 0.6, 0.65, 0.7, 0.75, 0.8]\n",
    "pdfs_path = \"../tests/files\"\n",
    "pdf_paths = glob(f\"{pdfs_path}/*.pdf\")\n",
    "\n",
    "# Process a document\n",
    "for pdf_path in pdf_paths[0:1]:\n",
    "    for ct in confidence_thresholds[0:1]:\n",
    "\n",
    "        markdown_text, elements_df, visualization_paths  = analyzer.analyze_document(pdf_path)\n",
    "\n",
    "        # Save results\n",
    "        elements_df.to_csv(f\"{output_dir}/paper_elements.csv\", index=False)\n",
    "        with open(f\"{output_dir}/paper_analysis.md\", \"w\") as f:\n",
    "            f.write(markdown_text)\n",
    "\n",
    "        # The visualization_paths dict maps page numbers to visualization paths\n",
    "        for page_num, vis_path in visualization_paths.items():\n",
    "            print(f\"Page {page_num} visualization: {vis_path}\")"
   ]
  },
  {
   "cell_type": "code",
   "execution_count": 2,
   "metadata": {},
   "outputs": [
    {
     "data": {
      "text/html": [
       "<div>\n",
       "<style scoped>\n",
       "    .dataframe tbody tr th:only-of-type {\n",
       "        vertical-align: middle;\n",
       "    }\n",
       "\n",
       "    .dataframe tbody tr th {\n",
       "        vertical-align: top;\n",
       "    }\n",
       "\n",
       "    .dataframe thead th {\n",
       "        text-align: right;\n",
       "    }\n",
       "</style>\n",
       "<table border=\"1\" class=\"dataframe\">\n",
       "  <thead>\n",
       "    <tr style=\"text-align: right;\">\n",
       "      <th></th>\n",
       "      <th>pdf_file</th>\n",
       "      <th>page</th>\n",
       "      <th>bounding_box</th>\n",
       "      <th>type</th>\n",
       "      <th>text</th>\n",
       "      <th>image_path</th>\n",
       "      <th>role</th>\n",
       "      <th>confidence</th>\n",
       "      <th>spans</th>\n",
       "      <th>source</th>\n",
       "      <th>normalized_box</th>\n",
       "    </tr>\n",
       "  </thead>\n",
       "  <tbody>\n",
       "    <tr>\n",
       "      <th>0</th>\n",
       "      <td>1-s2.0-S0927796X2030053X-am.pdf</td>\n",
       "      <td>1</td>\n",
       "      <td>(0.88, 0.21, 6.02, 0.54)</td>\n",
       "      <td>text</td>\n",
       "      <td>Version of Record: https://www.sciencedirect.c...</td>\n",
       "      <td>None</td>\n",
       "      <td>title</td>\n",
       "      <td>NaN</td>\n",
       "      <td>[{'offset': 0, 'length': 130}]</td>\n",
       "      <td>azure_document_intelligence</td>\n",
       "      <td>(61.63, 16.07, 421.60, 41.33)</td>\n",
       "    </tr>\n",
       "    <tr>\n",
       "      <th>1</th>\n",
       "      <td>1-s2.0-S0927796X2030053X-am.pdf</td>\n",
       "      <td>1</td>\n",
       "      <td>(1.49, 1.52, 6.75, 1.73)</td>\n",
       "      <td>text</td>\n",
       "      <td>Polymer Informatics: Current Status and Critic...</td>\n",
       "      <td>None</td>\n",
       "      <td>title</td>\n",
       "      <td>NaN</td>\n",
       "      <td>[{'offset': 131, 'length': 59}]</td>\n",
       "      <td>azure_document_intelligence</td>\n",
       "      <td>(104.35, 116.33, 472.72, 132.41)</td>\n",
       "    </tr>\n",
       "    <tr>\n",
       "      <th>2</th>\n",
       "      <td>1-s2.0-S0927796X2030053X-am.pdf</td>\n",
       "      <td>1</td>\n",
       "      <td>(1.24, 1.97, 7.02, 2.82)</td>\n",
       "      <td>text</td>\n",
       "      <td>Lihua Chenª, Ghanshyam Pilaniab, Rohit Batrac,...</td>\n",
       "      <td>None</td>\n",
       "      <td>None</td>\n",
       "      <td>NaN</td>\n",
       "      <td>[{'offset': 191, 'length': 412}]</td>\n",
       "      <td>azure_document_intelligence</td>\n",
       "      <td>(86.84, 150.77, 491.63, 215.83)</td>\n",
       "    </tr>\n",
       "    <tr>\n",
       "      <th>3</th>\n",
       "      <td>1-s2.0-S0927796X2030053X-am.pdf</td>\n",
       "      <td>1</td>\n",
       "      <td>(0.87, 3.70, 7.38, 6.17)</td>\n",
       "      <td>text</td>\n",
       "      <td>Artificial intelligence (AI) based approaches ...</td>\n",
       "      <td>None</td>\n",
       "      <td>None</td>\n",
       "      <td>NaN</td>\n",
       "      <td>[{'offset': 613, 'length': 1548}]</td>\n",
       "      <td>azure_document_intelligence</td>\n",
       "      <td>(60.93, 283.18, 516.84, 472.22)</td>\n",
       "    </tr>\n",
       "    <tr>\n",
       "      <th>4</th>\n",
       "      <td>1-s2.0-S0927796X2030053X-am.pdf</td>\n",
       "      <td>1</td>\n",
       "      <td>(0.87, 6.23, 7.31, 6.60)</td>\n",
       "      <td>text</td>\n",
       "      <td>Keywords: Polymer Informatics; machine learnin...</td>\n",
       "      <td>None</td>\n",
       "      <td>None</td>\n",
       "      <td>NaN</td>\n",
       "      <td>[{'offset': 2162, 'length': 111}]</td>\n",
       "      <td>azure_document_intelligence</td>\n",
       "      <td>(60.93, 476.82, 511.94, 505.13)</td>\n",
       "    </tr>\n",
       "  </tbody>\n",
       "</table>\n",
       "</div>"
      ],
      "text/plain": [
       "                          pdf_file  page              bounding_box  type  \\\n",
       "0  1-s2.0-S0927796X2030053X-am.pdf     1  (0.88, 0.21, 6.02, 0.54)  text   \n",
       "1  1-s2.0-S0927796X2030053X-am.pdf     1  (1.49, 1.52, 6.75, 1.73)  text   \n",
       "2  1-s2.0-S0927796X2030053X-am.pdf     1  (1.24, 1.97, 7.02, 2.82)  text   \n",
       "3  1-s2.0-S0927796X2030053X-am.pdf     1  (0.87, 3.70, 7.38, 6.17)  text   \n",
       "4  1-s2.0-S0927796X2030053X-am.pdf     1  (0.87, 6.23, 7.31, 6.60)  text   \n",
       "\n",
       "                                                text image_path   role  \\\n",
       "0  Version of Record: https://www.sciencedirect.c...       None  title   \n",
       "1  Polymer Informatics: Current Status and Critic...       None  title   \n",
       "2  Lihua Chenª, Ghanshyam Pilaniab, Rohit Batrac,...       None   None   \n",
       "3  Artificial intelligence (AI) based approaches ...       None   None   \n",
       "4  Keywords: Polymer Informatics; machine learnin...       None   None   \n",
       "\n",
       "   confidence                              spans                       source  \\\n",
       "0         NaN     [{'offset': 0, 'length': 130}]  azure_document_intelligence   \n",
       "1         NaN    [{'offset': 131, 'length': 59}]  azure_document_intelligence   \n",
       "2         NaN   [{'offset': 191, 'length': 412}]  azure_document_intelligence   \n",
       "3         NaN  [{'offset': 613, 'length': 1548}]  azure_document_intelligence   \n",
       "4         NaN  [{'offset': 2162, 'length': 111}]  azure_document_intelligence   \n",
       "\n",
       "                     normalized_box  \n",
       "0     (61.63, 16.07, 421.60, 41.33)  \n",
       "1  (104.35, 116.33, 472.72, 132.41)  \n",
       "2   (86.84, 150.77, 491.63, 215.83)  \n",
       "3   (60.93, 283.18, 516.84, 472.22)  \n",
       "4   (60.93, 476.82, 511.94, 505.13)  "
      ]
     },
     "execution_count": 2,
     "metadata": {},
     "output_type": "execute_result"
    }
   ],
   "source": [
    "elements_df.head()"
   ]
  },
  {
   "cell_type": "code",
   "execution_count": null,
   "metadata": {},
   "outputs": [],
   "source": []
  }
 ],
 "metadata": {
  "kernelspec": {
   "display_name": "nougat",
   "language": "python",
   "name": "python3"
  },
  "language_info": {
   "codemirror_mode": {
    "name": "ipython",
    "version": 3
   },
   "file_extension": ".py",
   "mimetype": "text/x-python",
   "name": "python",
   "nbconvert_exporter": "python",
   "pygments_lexer": "ipython3",
   "version": "3.9.21"
  }
 },
 "nbformat": 4,
 "nbformat_minor": 2
}
