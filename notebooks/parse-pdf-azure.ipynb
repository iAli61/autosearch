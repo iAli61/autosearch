{
 "cells": [
  {
   "cell_type": "code",
   "execution_count": null,
   "metadata": {},
   "outputs": [
    {
     "name": "stdout",
     "output_type": "stream",
     "text": [
      "The autoreload extension is already loaded. To reload it, use:\n",
      "  %reload_ext autoreload\n",
      "Initializing layout detection model...\n"
     ]
    },
    {
     "name": "stderr",
     "output_type": "stream",
     "text": [
      "/anaconda/envs/nougat/lib/python3.9/site-packages/huggingface_hub/file_download.py:795: FutureWarning: `resume_download` is deprecated and will be removed in version 1.0.0. Downloads always resume when possible. If you want to force a new download, use `force_download=True`.\n",
      "  warnings.warn(\n",
      "Some weights of DeformableDetrForObjectDetection were not initialized from the model checkpoint at Aryn/deformable-detr-DocLayNet and are newly initialized: ['bbox_embed.0.layers.0.bias', 'bbox_embed.0.layers.1.weight', 'bbox_embed.0.layers.1.bias', 'model.backbone.conv_encoder.model.layer3.0.downsample.1.num_batches_tracked', 'bbox_embed.0.layers.2.weight', 'bbox_embed.0.layers.2.bias', 'class_embed.0.weight', 'class_embed.0.bias', 'model.backbone.conv_encoder.model.layer2.0.downsample.1.num_batches_tracked', 'model.backbone.conv_encoder.model.layer4.0.downsample.1.num_batches_tracked', 'model.backbone.conv_encoder.model.layer1.0.downsample.1.num_batches_tracked', 'bbox_embed.0.layers.0.weight']\n",
      "You should probably TRAIN this model on a down-stream task to be able to use it for predictions and inference.\n"
     ]
    },
    {
     "name": "stdout",
     "output_type": "stream",
     "text": [
      "Layout detection service initialized. Using device: cuda\n"
     ]
    },
    {
     "name": "stderr",
     "output_type": "stream",
     "text": [
      "/anaconda/envs/nougat/lib/python3.9/site-packages/transformers/modeling_utils.py:463: FutureWarning: You are using `torch.load` with `weights_only=False` (the current default value), which uses the default pickle module implicitly. It is possible to construct malicious pickle data which will execute arbitrary code during unpickling (See https://github.com/pytorch/pytorch/blob/main/SECURITY.md#untrusted-models for more details). In a future release, the default value for `weights_only` will be flipped to `True`. This limits the functions that could be executed during unpickling. Arbitrary objects will no longer be allowed to be loaded via this mode unless they are explicitly allowlisted by the user via `torch.serialization.add_safe_globals`. We recommend you start setting `weights_only=True` for any use case where you don't have full control of the loaded file. Please open an issue on GitHub for any issues related to this experimental feature.\n",
      "  return torch.load(checkpoint_file, map_location=\"cpu\")\n",
      "/anaconda/envs/nougat/lib/python3.9/site-packages/torch/functional.py:534: UserWarning: torch.meshgrid: in an upcoming release, it will be required to pass the indexing argument. (Triggered internally at ../aten/src/ATen/native/TensorShape.cpp:3595.)\n",
      "  return _VF.meshgrid(tensors, **kwargs)  # type: ignore[attr-defined]\n"
     ]
    },
    {
     "name": "stdout",
     "output_type": "stream",
     "text": [
      "Error extracting text: 'NougatService' object has no attribute 'device'\n",
      "Error extracting text: 'NougatService' object has no attribute 'device'\n",
      "Error extracting text: 'NougatService' object has no attribute 'device'\n",
      "Error extracting text: 'NougatService' object has no attribute 'device'\n",
      "Error extracting text: 'NougatService' object has no attribute 'device'\n",
      "Error extracting text: 'NougatService' object has no attribute 'device'\n",
      "Error extracting text: 'NougatService' object has no attribute 'device'\n",
      "Error extracting text: 'NougatService' object has no attribute 'device'\n",
      "Error extracting text: 'NougatService' object has no attribute 'device'\n",
      "Warning: No text extracted from Caption on page 3\n",
      "Error extracting text: 'NougatService' object has no attribute 'device'\n",
      "Error extracting text: 'NougatService' object has no attribute 'device'\n",
      "Error extracting text: 'NougatService' object has no attribute 'device'\n",
      "Error extracting text: 'NougatService' object has no attribute 'device'\n",
      "Error extracting text: 'NougatService' object has no attribute 'device'\n",
      "Error extracting text: 'NougatService' object has no attribute 'device'\n",
      "Warning: No text extracted from Caption on page 9\n",
      "Error extracting text: 'NougatService' object has no attribute 'device'\n",
      "Error extracting text: 'NougatService' object has no attribute 'device'\n",
      "Error extracting text: 'NougatService' object has no attribute 'device'\n",
      "Warning: No text extracted from Caption on page 10\n",
      "Error extracting text: 'NougatService' object has no attribute 'device'\n",
      "Error extracting text: 'NougatService' object has no attribute 'device'\n",
      "Error extracting text: 'NougatService' object has no attribute 'device'\n",
      "Warning: No text extracted from Caption on page 13\n",
      "Error extracting text: 'NougatService' object has no attribute 'device'\n",
      "Error extracting text: 'NougatService' object has no attribute 'device'\n",
      "Error extracting text: 'NougatService' object has no attribute 'device'\n",
      "Warning: No text extracted from Caption on page 14\n",
      "Error extracting text: 'NougatService' object has no attribute 'device'\n",
      "Error extracting text: 'NougatService' object has no attribute 'device'\n",
      "Error extracting text: 'NougatService' object has no attribute 'device'\n",
      "Warning: No text extracted from Caption on page 16\n",
      "Error extracting text: 'NougatService' object has no attribute 'device'\n",
      "Error extracting text: 'NougatService' object has no attribute 'device'\n",
      "Error extracting text: 'NougatService' object has no attribute 'device'\n"
     ]
    }
   ],
   "source": [
    "# Add these lines at the beginning of your notebook\n",
    "%load_ext autoreload\n",
    "%autoreload 2\n",
    "\n",
    "from document_analysis import EnhancedDocumentAnalyzer\n",
    "from glob import glob\n",
    "import dotenv\n",
    "import os\n",
    "\n",
    "# Load the environment variables\n",
    "dotenv.load_dotenv()\n",
    "\n",
    "output_dir = \"output-azure\"\n",
    "\n",
    "analyzer = EnhancedDocumentAnalyzer(\n",
    "    api_key=os.getenv(\"DOCUMENT_INTELLIGENCE_KEY\"),\n",
    "    endpoint=os.getenv(\"DOCUMENT_INTELLIGENCE_ENDPOINT\"),\n",
    "    output_dir=output_dir,\n",
    "    confidence_threshold=0.5\n",
    ")\n",
    "\n",
    "# Initialize the analyzer\n",
    "confidence_thresholds = [0.55, 0.6, 0.65, 0.7, 0.75, 0.8]\n",
    "pdfs_path = \"../tests/files\"\n",
    "pdf_paths = glob(f\"{pdfs_path}/*.pdf\")\n",
    "\n",
    "# Process a document\n",
    "for pdf_path in pdf_paths[0:1]:\n",
    "    for ct in confidence_thresholds[0:1]:\n",
    "\n",
    "        markdown_text, elements_df = analyzer.analyze_document(pdf_path)\n",
    "\n",
    "        # Save results\n",
    "        elements_df.to_csv(f\"{output_dir}/paper_elements.csv\", index=False)\n",
    "        with open(f\"{output_dir}/paper_analysis.md\", \"w\") as f:\n",
    "            f.write(markdown_text)"
   ]
  },
  {
   "cell_type": "code",
   "execution_count": null,
   "metadata": {},
   "outputs": [],
   "source": []
  }
 ],
 "metadata": {
  "kernelspec": {
   "display_name": "nougat",
   "language": "python",
   "name": "python3"
  },
  "language_info": {
   "codemirror_mode": {
    "name": "ipython",
    "version": 3
   },
   "file_extension": ".py",
   "mimetype": "text/x-python",
   "name": "python",
   "nbconvert_exporter": "python",
   "pygments_lexer": "ipython3",
   "version": "3.9.21"
  }
 },
 "nbformat": 4,
 "nbformat_minor": 2
}
