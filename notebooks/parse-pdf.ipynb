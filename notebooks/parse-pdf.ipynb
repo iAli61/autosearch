{
 "cells": [
  {
   "cell_type": "code",
   "execution_count": 3,
   "metadata": {},
   "outputs": [
    {
     "name": "stderr",
     "output_type": "stream",
     "text": [
      "/anaconda/envs/nougat/lib/python3.9/site-packages/tqdm/auto.py:21: TqdmWarning: IProgress not found. Please update jupyter and ipywidgets. See https://ipywidgets.readthedocs.io/en/stable/user_install.html\n",
      "  from .autonotebook import tqdm as notebook_tqdm\n",
      "/anaconda/envs/nougat/lib/python3.9/site-packages/torch/utils/cpp_extension.py:1964: UserWarning: TORCH_CUDA_ARCH_LIST is not set, all archs for visible cards are included for compilation. \n",
      "If this is not desired, please set os.environ['TORCH_CUDA_ARCH_LIST'].\n",
      "  warnings.warn(\n"
     ]
    },
    {
     "name": "stdout",
     "output_type": "stream",
     "text": [
      "Initializing layout detection model...\n"
     ]
    },
    {
     "name": "stderr",
     "output_type": "stream",
     "text": [
      "/anaconda/envs/nougat/lib/python3.9/site-packages/huggingface_hub/file_download.py:795: FutureWarning: `resume_download` is deprecated and will be removed in version 1.0.0. Downloads always resume when possible. If you want to force a new download, use `force_download=True`.\n",
      "  warnings.warn(\n",
      "Some weights of DeformableDetrForObjectDetection were not initialized from the model checkpoint at Aryn/deformable-detr-DocLayNet and are newly initialized: ['bbox_embed.0.layers.2.bias', 'model.backbone.conv_encoder.model.layer3.0.downsample.1.num_batches_tracked', 'bbox_embed.0.layers.2.weight', 'bbox_embed.0.layers.0.weight', 'bbox_embed.0.layers.1.weight', 'model.backbone.conv_encoder.model.layer4.0.downsample.1.num_batches_tracked', 'class_embed.0.bias', 'bbox_embed.0.layers.1.bias', 'model.backbone.conv_encoder.model.layer2.0.downsample.1.num_batches_tracked', 'bbox_embed.0.layers.0.bias', 'class_embed.0.weight', 'model.backbone.conv_encoder.model.layer1.0.downsample.1.num_batches_tracked']\n",
      "You should probably TRAIN this model on a down-stream task to be able to use it for predictions and inference.\n"
     ]
    },
    {
     "name": "stdout",
     "output_type": "stream",
     "text": [
      "Layout detection service initialized. Using device: cuda\n",
      "Initializing Nougat model...\n"
     ]
    },
    {
     "name": "stderr",
     "output_type": "stream",
     "text": [
      "/anaconda/envs/nougat/lib/python3.9/site-packages/transformers/modeling_utils.py:463: FutureWarning: You are using `torch.load` with `weights_only=False` (the current default value), which uses the default pickle module implicitly. It is possible to construct malicious pickle data which will execute arbitrary code during unpickling (See https://github.com/pytorch/pytorch/blob/main/SECURITY.md#untrusted-models for more details). In a future release, the default value for `weights_only` will be flipped to `True`. This limits the functions that could be executed during unpickling. Arbitrary objects will no longer be allowed to be loaded via this mode unless they are explicitly allowlisted by the user via `torch.serialization.add_safe_globals`. We recommend you start setting `weights_only=True` for any use case where you don't have full control of the loaded file. Please open an issue on GitHub for any issues related to this experimental feature.\n",
      "  return torch.load(checkpoint_file, map_location=\"cpu\")\n",
      "/anaconda/envs/nougat/lib/python3.9/site-packages/torch/functional.py:534: UserWarning: torch.meshgrid: in an upcoming release, it will be required to pass the indexing argument. (Triggered internally at ../aten/src/ATen/native/TensorShape.cpp:3595.)\n",
      "  return _VF.meshgrid(tensors, **kwargs)  # type: ignore[attr-defined]\n"
     ]
    },
    {
     "name": "stdout",
     "output_type": "stream",
     "text": [
      "Nougat service initialized. Using device: cuda\n",
      "Processing document: ../tests/files/OrgChem-2019-Markushyna-OrganicPhotocatalysisCarbonNitrideSemiconductorsMolecularCatalysts.pdf\n",
      "Converted 16 pages to images\n",
      "Processing page 1/16\n"
     ]
    },
    {
     "name": "stderr",
     "output_type": "stream",
     "text": [
      "/anaconda/envs/nougat/lib/python3.9/site-packages/nougat/model.py:437: UserWarning: var(): degrees of freedom is <= 0. Correction should be strictly less than the reduction factor (input numel divided by output numel). (Triggered internally at ../aten/src/ATen/native/ReduceOps.cpp:1823.)\n",
      "  return torch.var(self.values, 1) / self.values.shape[1]\n"
     ]
    },
    {
     "name": "stdout",
     "output_type": "stream",
     "text": [
      "Processing page 2/16\n",
      "Processing page 3/16\n",
      "Processing page 4/16\n",
      "Processing page 5/16\n"
     ]
    },
    {
     "name": "stderr",
     "output_type": "stream",
     "text": [
      "WARNING:root:Found repetitions in sample 0\n"
     ]
    },
    {
     "name": "stdout",
     "output_type": "stream",
     "text": [
      "Processing page 6/16\n",
      "Processing page 7/16\n",
      "Processing page 8/16\n",
      "Processing page 9/16\n",
      "Processing page 10/16\n",
      "Processing page 11/16\n",
      "Processing page 12/16\n",
      "Processing page 13/16\n",
      "Processing page 14/16\n",
      "Processing page 15/16\n",
      "Processing page 16/16\n"
     ]
    }
   ],
   "source": [
    "# Add these lines at the beginning of your notebook\n",
    "%load_ext autoreload\n",
    "%autoreload 2\n",
    "\n",
    "from document_analysis import DocumentAnalyzer\n",
    "\n",
    "# Initialize the analyzer\n",
    "analyzer = DocumentAnalyzer(output_dir=\"output\", confidence_threshold=0.7)\n",
    "\n",
    "# Process a document\n",
    "\n",
    "pdf_path = \"../tests/files/OrgChem-2019-Markushyna-OrganicPhotocatalysisCarbonNitrideSemiconductorsMolecularCatalysts.pdf\"\n",
    "result = analyzer.analyze_document(pdf_path)"
   ]
  }
 ],
 "metadata": {
  "kernelspec": {
   "display_name": "nougat",
   "language": "python",
   "name": "python3"
  },
  "language_info": {
   "codemirror_mode": {
    "name": "ipython",
    "version": 3
   },
   "file_extension": ".py",
   "mimetype": "text/x-python",
   "name": "python",
   "nbconvert_exporter": "python",
   "pygments_lexer": "ipython3",
   "version": "3.9.21"
  }
 },
 "nbformat": 4,
 "nbformat_minor": 2
}
