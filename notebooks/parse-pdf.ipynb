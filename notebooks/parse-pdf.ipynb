{
 "cells": [
  {
   "cell_type": "code",
   "execution_count": null,
   "metadata": {},
   "outputs": [
    {
     "name": "stderr",
     "output_type": "stream",
     "text": [
      "/anaconda/envs/nougat/lib/python3.9/site-packages/tqdm/auto.py:21: TqdmWarning: IProgress not found. Please update jupyter and ipywidgets. See https://ipywidgets.readthedocs.io/en/stable/user_install.html\n",
      "  from .autonotebook import tqdm as notebook_tqdm\n",
      "/anaconda/envs/nougat/lib/python3.9/site-packages/torch/utils/cpp_extension.py:1964: UserWarning: TORCH_CUDA_ARCH_LIST is not set, all archs for visible cards are included for compilation. \n",
      "If this is not desired, please set os.environ['TORCH_CUDA_ARCH_LIST'].\n",
      "  warnings.warn(\n"
     ]
    }
   ],
   "source": [
    "# Add these lines at the beginning of your notebook\n",
    "%load_ext autoreload\n",
    "%autoreload 2\n",
    "\n",
    "from document_analysis import DocumentAnalyzer\n",
    "from glob import glob\n",
    "\n",
    "# Update imports to suppress TqdmWarning or ensure dependencies are updated\n",
    "# Consider adding installation commands if running in a notebook environment\n",
    "# Example:\n",
    "# !pip install --upgrade jupyter ipywidgets\n",
    "\n",
    "# Alternatively, suppress the warning\n",
    "import warnings\n",
    "from tqdm.auto import tqdm\n",
    "\n",
    "warnings.filterwarnings(\"ignore\", category=UserWarning, module=\"tqdm.auto\")\n",
    "\n",
    "# Initialize the analyzer\n",
    "confidence_thresholds = [0.55, 0.6, 0.65, 0.7, 0.75, 0.8]\n",
    "pdfs_path = \"../tests/files\"\n",
    "pdf_paths = glob(f\"{pdfs_path}/*.pdf\")\n",
    "\n",
    "# Process a document\n",
    "for pdf_path in pdf_paths:\n",
    "    for ct in confidence_thresholds:\n",
    "        analyzer = DocumentAnalyzer(output_dir=f\"output/{ct}/{pdf_path.split('/')[-1].split('.')[0]}\",\n",
    "                                     confidence_threshold=ct,\n",
    "                                     nougat_checkpoint=\"nougat_checkpoints\"\n",
    "                                    )\n",
    "\n",
    "        # Process a document\n",
    "        result = analyzer.analyze_document(pdf_path)"
   ]
  },
  {
   "cell_type": "code",
   "execution_count": null,
   "metadata": {},
   "outputs": [],
   "source": []
  }
 ],
 "metadata": {
  "kernelspec": {
   "display_name": "nougat",
   "language": "python",
   "name": "python3"
  },
  "language_info": {
   "codemirror_mode": {
    "name": "ipython",
    "version": 3
   },
   "file_extension": ".py",
   "mimetype": "text/x-python",
   "name": "python",
   "nbconvert_exporter": "python",
   "pygments_lexer": "ipython3",
   "version": "3.9.21"
  }
 },
 "nbformat": 4,
 "nbformat_minor": 2
}
