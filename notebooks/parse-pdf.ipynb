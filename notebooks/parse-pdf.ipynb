{
 "cells": [
  {
   "cell_type": "code",
   "execution_count": null,
   "metadata": {},
   "outputs": [],
   "source": [
    "# Add these lines at the beginning of your notebook\n",
    "%load_ext autoreload\n",
    "%autoreload 2\n",
    "\n",
    "from document_analysis import DocumentAnalyzer\n",
    "from glob import glob\n",
    "\n",
    "# Initialize the analyzer\n",
    "confidence_thresholds = [0.4, 0.45, 0.5, 0.6, 0.7]\n",
    "pdfs_path = \"../tests/files\"\n",
    "pdf_paths = glob(f\"{pdfs_path}/*.pdf\")\n",
    "\n",
    "# Process a document\n",
    "for pdf_path in pdf_paths:\n",
    "    for ct in confidence_thresholds:\n",
    "        analyzer = DocumentAnalyzer(output_dir=f\"output/{ct}/{pdf_path.split('/')[-1].split('.')[0]}\",\n",
    "                                     confidence_threshold=ct)\n",
    "\n",
    "        # Process a document\n",
    "        result = analyzer.analyze_document(pdf_path)"
   ]
  },
  {
   "cell_type": "code",
   "execution_count": 2,
   "metadata": {},
   "outputs": [
    {
     "name": "stdout",
     "output_type": "stream",
     "text": [
      "Initializing layout detection model...\n"
     ]
    },
    {
     "name": "stderr",
     "output_type": "stream",
     "text": [
      "/anaconda/envs/nougat/lib/python3.9/site-packages/huggingface_hub/file_download.py:795: FutureWarning: `resume_download` is deprecated and will be removed in version 1.0.0. Downloads always resume when possible. If you want to force a new download, use `force_download=True`.\n",
      "  warnings.warn(\n",
      "Some weights of DeformableDetrForObjectDetection were not initialized from the model checkpoint at Aryn/deformable-detr-DocLayNet and are newly initialized: ['bbox_embed.0.layers.1.weight', 'class_embed.0.weight', 'bbox_embed.0.layers.0.weight', 'bbox_embed.0.layers.2.bias', 'bbox_embed.0.layers.2.weight', 'model.backbone.conv_encoder.model.layer1.0.downsample.1.num_batches_tracked', 'model.backbone.conv_encoder.model.layer2.0.downsample.1.num_batches_tracked', 'model.backbone.conv_encoder.model.layer4.0.downsample.1.num_batches_tracked', 'bbox_embed.0.layers.1.bias', 'class_embed.0.bias', 'bbox_embed.0.layers.0.bias', 'model.backbone.conv_encoder.model.layer3.0.downsample.1.num_batches_tracked']\n",
      "You should probably TRAIN this model on a down-stream task to be able to use it for predictions and inference.\n"
     ]
    },
    {
     "name": "stdout",
     "output_type": "stream",
     "text": [
      "Layout detection service initialized. Using device: cuda\n",
      "Initializing Nougat model...\n"
     ]
    },
    {
     "name": "stderr",
     "output_type": "stream",
     "text": [
      "/anaconda/envs/nougat/lib/python3.9/site-packages/transformers/modeling_utils.py:463: FutureWarning: You are using `torch.load` with `weights_only=False` (the current default value), which uses the default pickle module implicitly. It is possible to construct malicious pickle data which will execute arbitrary code during unpickling (See https://github.com/pytorch/pytorch/blob/main/SECURITY.md#untrusted-models for more details). In a future release, the default value for `weights_only` will be flipped to `True`. This limits the functions that could be executed during unpickling. Arbitrary objects will no longer be allowed to be loaded via this mode unless they are explicitly allowlisted by the user via `torch.serialization.add_safe_globals`. We recommend you start setting `weights_only=True` for any use case where you don't have full control of the loaded file. Please open an issue on GitHub for any issues related to this experimental feature.\n",
      "  return torch.load(checkpoint_file, map_location=\"cpu\")\n",
      "Some weights of the model checkpoint at /home/azureuser/.cache/torch/hub/nougat-0.1.0-small were not used when initializing NougatModel: ['encoder.model.layers.1.blocks.1.attn_mask', 'encoder.model.layers.2.blocks.10.attn.relative_position_index', 'encoder.model.layers.2.blocks.5.attn_mask', 'encoder.model.layers.0.blocks.0.attn.relative_position_index', 'encoder.model.layers.2.blocks.3.attn.relative_position_index', 'encoder.model.layers.2.blocks.7.attn.relative_position_index', 'encoder.model.layers.2.blocks.1.attn_mask', 'encoder.model.layers.2.blocks.11.attn.relative_position_index', 'encoder.model.layers.2.blocks.6.attn.relative_position_index', 'encoder.model.layers.2.blocks.13.attn_mask', 'encoder.model.layers.0.downsample.reduction.weight', 'encoder.model.layers.2.blocks.4.attn.relative_position_index', 'encoder.model.layers.0.downsample.norm.bias', 'encoder.model.layers.0.downsample.norm.weight', 'encoder.model.layers.2.blocks.9.attn.relative_position_index', 'encoder.model.layers.2.blocks.7.attn_mask', 'encoder.model.layers.2.blocks.12.attn.relative_position_index', 'encoder.model.layers.3.blocks.1.attn_mask', 'encoder.model.layers.2.blocks.8.attn.relative_position_index', 'encoder.model.layers.2.blocks.13.attn.relative_position_index', 'encoder.model.layers.0.blocks.1.attn.relative_position_index', 'encoder.model.layers.2.blocks.0.attn.relative_position_index', 'encoder.model.layers.2.blocks.3.attn_mask', 'encoder.model.layers.2.blocks.11.attn_mask', 'encoder.model.layers.0.blocks.1.attn_mask', 'encoder.model.layers.2.blocks.2.attn.relative_position_index', 'encoder.model.layers.3.blocks.0.attn.relative_position_index', 'encoder.model.layers.3.blocks.1.attn.relative_position_index', 'encoder.model.layers.1.blocks.0.attn.relative_position_index', 'encoder.model.layers.1.blocks.1.attn.relative_position_index', 'encoder.model.layers.2.blocks.9.attn_mask', 'encoder.model.layers.2.blocks.1.attn.relative_position_index', 'encoder.model.layers.2.blocks.5.attn.relative_position_index']\n",
      "- This IS expected if you are initializing NougatModel from the checkpoint of a model trained on another task or with another architecture (e.g. initializing a BertForSequenceClassification model from a BertForPreTraining model).\n",
      "- This IS NOT expected if you are initializing NougatModel from the checkpoint of a model that you expect to be exactly identical (initializing a BertForSequenceClassification model from a BertForSequenceClassification model).\n",
      "Some weights of NougatModel were not initialized from the model checkpoint at /home/azureuser/.cache/torch/hub/nougat-0.1.0-small and are newly initialized: ['encoder.model.layers.3.downsample.reduction.weight', 'encoder.model.layers.3.downsample.norm.weight', 'encoder.model.layers.3.downsample.norm.bias']\n",
      "You should probably TRAIN this model on a down-stream task to be able to use it for predictions and inference.\n",
      "Some weights of NougatModel were not initialized from the model checkpoint at /home/azureuser/.cache/torch/hub/nougat-0.1.0-small and are newly initialized because the shapes did not match:\n",
      "- encoder.model.layers.1.downsample.reduction.weight: found shape torch.Size([512, 1024]) in the checkpoint and torch.Size([256, 512]) in the model instantiated\n",
      "- encoder.model.layers.1.downsample.norm.weight: found shape torch.Size([1024]) in the checkpoint and torch.Size([512]) in the model instantiated\n",
      "- encoder.model.layers.1.downsample.norm.bias: found shape torch.Size([1024]) in the checkpoint and torch.Size([512]) in the model instantiated\n",
      "- encoder.model.layers.2.downsample.reduction.weight: found shape torch.Size([1024, 2048]) in the checkpoint and torch.Size([512, 1024]) in the model instantiated\n",
      "- encoder.model.layers.2.downsample.norm.weight: found shape torch.Size([2048]) in the checkpoint and torch.Size([1024]) in the model instantiated\n",
      "- encoder.model.layers.2.downsample.norm.bias: found shape torch.Size([2048]) in the checkpoint and torch.Size([1024]) in the model instantiated\n",
      "You should probably TRAIN this model on a down-stream task to be able to use it for predictions and inference.\n"
     ]
    },
    {
     "name": "stdout",
     "output_type": "stream",
     "text": [
      "Nougat service initialized. Using device: cuda\n"
     ]
    }
   ],
   "source": [
    "from document_analysis import EnhancedDocumentAnalyzer\n",
    "import dotenv\n",
    "import os\n",
    "\n",
    "dotenv.load_dotenv()\n",
    "\n",
    "pdf_path = \"../tests/files/OrgChem-2019-Markushyna-OrganicPhotocatalysisCarbonNitrideSemiconductorsMolecularCatalysts.pdf\"\n",
    "\n",
    "analyzer = EnhancedDocumentAnalyzer(\n",
    "    api_key=os.getenv(\"DOCUMENT_INTELLIGENCE_KEY\"),\n",
    "    endpoint=os.getenv(\"DOCUMENT_INTELLIGENCE_ENDPOINT\"),\n",
    "    output_dir=\"output-ai\",\n",
    "    confidence_threshold=0.5\n",
    ")\n",
    "\n",
    "markdown_text, elements_df = analyzer.analyze_document(pdf_path)\n",
    "\n",
    "# Save results\n",
    "elements_df.to_csv(\"paper_elements.csv\", index=False)\n",
    "with open(\"paper.md\", \"w\") as f:\n",
    "    f.write(markdown_text)"
   ]
  },
  {
   "cell_type": "code",
   "execution_count": null,
   "metadata": {},
   "outputs": [],
   "source": [
    "|"
   ]
  }
 ],
 "metadata": {
  "kernelspec": {
   "display_name": "nougat",
   "language": "python",
   "name": "python3"
  },
  "language_info": {
   "codemirror_mode": {
    "name": "ipython",
    "version": 3
   },
   "file_extension": ".py",
   "mimetype": "text/x-python",
   "name": "python",
   "nbconvert_exporter": "python",
   "pygments_lexer": "ipython3",
   "version": "3.9.21"
  }
 },
 "nbformat": 4,
 "nbformat_minor": 2
}
