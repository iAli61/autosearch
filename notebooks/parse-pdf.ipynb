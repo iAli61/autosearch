{
 "cells": [
  {
   "cell_type": "code",
   "execution_count": null,
   "metadata": {},
   "outputs": [
    {
     "name": "stdout",
     "output_type": "stream",
     "text": [
      "The autoreload extension is already loaded. To reload it, use:\n",
      "  %reload_ext autoreload\n",
      "Initializing layout detection model...\n"
     ]
    },
    {
     "name": "stderr",
     "output_type": "stream",
     "text": [
      "/anaconda/envs/nougat/lib/python3.9/site-packages/huggingface_hub/file_download.py:795: FutureWarning: `resume_download` is deprecated and will be removed in version 1.0.0. Downloads always resume when possible. If you want to force a new download, use `force_download=True`.\n",
      "  warnings.warn(\n",
      "Some weights of DeformableDetrForObjectDetection were not initialized from the model checkpoint at Aryn/deformable-detr-DocLayNet and are newly initialized: ['model.backbone.conv_encoder.model.layer2.0.downsample.1.num_batches_tracked', 'model.backbone.conv_encoder.model.layer4.0.downsample.1.num_batches_tracked', 'bbox_embed.0.layers.1.bias', 'class_embed.0.bias', 'bbox_embed.0.layers.1.weight', 'bbox_embed.0.layers.0.weight', 'bbox_embed.0.layers.2.bias', 'model.backbone.conv_encoder.model.layer3.0.downsample.1.num_batches_tracked', 'bbox_embed.0.layers.0.bias', 'model.backbone.conv_encoder.model.layer1.0.downsample.1.num_batches_tracked', 'class_embed.0.weight', 'bbox_embed.0.layers.2.weight']\n",
      "You should probably TRAIN this model on a down-stream task to be able to use it for predictions and inference.\n",
      "/anaconda/envs/nougat/lib/python3.9/site-packages/transformers/modeling_utils.py:463: FutureWarning: You are using `torch.load` with `weights_only=False` (the current default value), which uses the default pickle module implicitly. It is possible to construct malicious pickle data which will execute arbitrary code during unpickling (See https://github.com/pytorch/pytorch/blob/main/SECURITY.md#untrusted-models for more details). In a future release, the default value for `weights_only` will be flipped to `True`. This limits the functions that could be executed during unpickling. Arbitrary objects will no longer be allowed to be loaded via this mode unless they are explicitly allowlisted by the user via `torch.serialization.add_safe_globals`. We recommend you start setting `weights_only=True` for any use case where you don't have full control of the loaded file. Please open an issue on GitHub for any issues related to this experimental feature.\n",
      "  return torch.load(checkpoint_file, map_location=\"cpu\")\n"
     ]
    },
    {
     "name": "stdout",
     "output_type": "stream",
     "text": [
      "Layout detection service initialized. Using device: cuda\n",
      "Initializing Nougat model...\n",
      "Nougat service initialized. Using device: cuda\n",
      "Processing document: ../tests/files/OrgChem-2019-Markushyna-OrganicPhotocatalysisCarbonNitrideSemiconductorsMolecularCatalysts.pdf\n",
      "Converted 16 pages to images\n",
      "Processing page 1/16\n",
      "Saved page visualization to: output-ct-0.55/visualizations/page_1_layout.png\n"
     ]
    },
    {
     "name": "stderr",
     "output_type": "stream",
     "text": [
      "/anaconda/envs/nougat/lib/python3.9/site-packages/nougat/model.py:437: UserWarning: var(): degrees of freedom is <= 0. Correction should be strictly less than the reduction factor (input numel divided by output numel). (Triggered internally at ../aten/src/ATen/native/ReduceOps.cpp:1823.)\n",
      "  return torch.var(self.values, 1) / self.values.shape[1]\n"
     ]
    },
    {
     "name": "stdout",
     "output_type": "stream",
     "text": [
      "Processing page 2/16\n",
      "Saved page visualization to: output-ct-0.55/visualizations/page_2_layout.png\n",
      "Processing page 3/16\n",
      "Saved page visualization to: output-ct-0.55/visualizations/page_3_layout.png\n",
      "Processing page 4/16\n",
      "Saved page visualization to: output-ct-0.55/visualizations/page_4_layout.png\n",
      "Processing page 5/16\n",
      "Saved page visualization to: output-ct-0.55/visualizations/page_5_layout.png\n"
     ]
    },
    {
     "name": "stderr",
     "output_type": "stream",
     "text": [
      "WARNING:root:Found repetitions in sample 0\n"
     ]
    },
    {
     "name": "stdout",
     "output_type": "stream",
     "text": [
      "Processing page 6/16\n",
      "Saved page visualization to: output-ct-0.55/visualizations/page_6_layout.png\n",
      "Processing page 7/16\n",
      "Saved page visualization to: output-ct-0.55/visualizations/page_7_layout.png\n",
      "Processing page 8/16\n",
      "Saved page visualization to: output-ct-0.55/visualizations/page_8_layout.png\n",
      "Processing page 9/16\n",
      "Saved page visualization to: output-ct-0.55/visualizations/page_9_layout.png\n",
      "Processing page 10/16\n",
      "Saved page visualization to: output-ct-0.55/visualizations/page_10_layout.png\n",
      "Processing page 11/16\n",
      "Saved page visualization to: output-ct-0.55/visualizations/page_11_layout.png\n"
     ]
    }
   ],
   "source": [
    "# Add these lines at the beginning of your notebook\n",
    "%load_ext autoreload\n",
    "%autoreload 2\n",
    "\n",
    "from document_analysis import DocumentAnalyzer\n",
    "from glob import glob\n",
    "\n",
    "# Initialize the analyzer\n",
    "confidence_thresholds = [0.55, 0.6, 0.65, 0.7, 0.75, 0.8]\n",
    "pdfs_path = \"../tests/files\"\n",
    "pdf_paths = glob(f\"{pdfs_path}/*.pdf\")\n",
    "\n",
    "# Process a document\n",
    "for pdf_path in pdf_paths:\n",
    "    for ct in confidence_thresholds:\n",
    "        analyzer = DocumentAnalyzer(output_dir=f\"output/{ct}/{pdf_path.split('/')[-1].split('.')[0]}\",\n",
    "                                     confidence_threshold=ct)\n",
    "\n",
    "        # Process a document\n",
    "        result = analyzer.analyze_document(pdf_path)"
   ]
  },
  {
   "cell_type": "code",
   "execution_count": null,
   "metadata": {},
   "outputs": [],
   "source": []
  }
 ],
 "metadata": {
  "kernelspec": {
   "display_name": "nougat",
   "language": "python",
   "name": "python3"
  },
  "language_info": {
   "codemirror_mode": {
    "name": "ipython",
    "version": 3
   },
   "file_extension": ".py",
   "mimetype": "text/x-python",
   "name": "python",
   "nbconvert_exporter": "python",
   "pygments_lexer": "ipython3",
   "version": "3.9.21"
  }
 },
 "nbformat": 4,
 "nbformat_minor": 2
}
